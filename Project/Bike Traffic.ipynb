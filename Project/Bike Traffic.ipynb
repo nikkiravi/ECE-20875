{
 "cells": [
  {
   "cell_type": "code",
   "execution_count": 1,
   "metadata": {},
   "outputs": [],
   "source": [
    "#!pip install pandas # Using Jupyter Notebook in Vbox\n",
    "import pandas as pd\n",
    "import numpy as np\n",
    "import re\n",
    "from sklearn.model_selection import train_test_split\n",
    "import matplotlib.pyplot as plt\n",
    "from sklearn.linear_model import LinearRegression\n",
    "from sklearn.metrics import r2_score\n",
    "from sklearn.linear_model import Ridge\n",
    "from sklearn.preprocessing import PolynomialFeatures\n",
    "from sklearn.linear_model import LogisticRegression\n",
    "from sklearn import metrics\n",
    "from sklearn import svm\n",
    "from sklearn.naive_bayes import BernoulliNB \n",
    "\n",
    "#To ignore warnings\n",
    "import warnings\n",
    "warnings.filterwarnings('ignore')"
   ]
  },
  {
   "cell_type": "code",
   "execution_count": 2,
   "metadata": {},
   "outputs": [
    {
     "data": {
      "text/html": [
       "<div>\n",
       "<style scoped>\n",
       "    .dataframe tbody tr th:only-of-type {\n",
       "        vertical-align: middle;\n",
       "    }\n",
       "\n",
       "    .dataframe tbody tr th {\n",
       "        vertical-align: top;\n",
       "    }\n",
       "\n",
       "    .dataframe thead th {\n",
       "        text-align: right;\n",
       "    }\n",
       "</style>\n",
       "<table border=\"1\" class=\"dataframe\">\n",
       "  <thead>\n",
       "    <tr style=\"text-align: right;\">\n",
       "      <th></th>\n",
       "      <th>Date</th>\n",
       "      <th>Day</th>\n",
       "      <th>High Temp (°F)</th>\n",
       "      <th>Low Temp (°F)</th>\n",
       "      <th>Precipitation</th>\n",
       "      <th>Brooklyn Bridge</th>\n",
       "      <th>Manhattan Bridge</th>\n",
       "      <th>Williamsburg Bridge</th>\n",
       "      <th>Queensboro Bridge</th>\n",
       "      <th>Total</th>\n",
       "    </tr>\n",
       "  </thead>\n",
       "  <tbody>\n",
       "    <tr>\n",
       "      <th>0</th>\n",
       "      <td>1-Apr</td>\n",
       "      <td>Friday</td>\n",
       "      <td>78.1</td>\n",
       "      <td>66.0</td>\n",
       "      <td>0.01</td>\n",
       "      <td>1704</td>\n",
       "      <td>3126</td>\n",
       "      <td>4115</td>\n",
       "      <td>2552</td>\n",
       "      <td>11497</td>\n",
       "    </tr>\n",
       "    <tr>\n",
       "      <th>1</th>\n",
       "      <td>2-Apr</td>\n",
       "      <td>Saturday</td>\n",
       "      <td>55.0</td>\n",
       "      <td>48.9</td>\n",
       "      <td>0.15</td>\n",
       "      <td>827</td>\n",
       "      <td>1646</td>\n",
       "      <td>2565</td>\n",
       "      <td>1884</td>\n",
       "      <td>6922</td>\n",
       "    </tr>\n",
       "    <tr>\n",
       "      <th>2</th>\n",
       "      <td>3-Apr</td>\n",
       "      <td>Sunday</td>\n",
       "      <td>39.9</td>\n",
       "      <td>34.0</td>\n",
       "      <td>0.09</td>\n",
       "      <td>526</td>\n",
       "      <td>1232</td>\n",
       "      <td>1695</td>\n",
       "      <td>1306</td>\n",
       "      <td>4759</td>\n",
       "    </tr>\n",
       "    <tr>\n",
       "      <th>3</th>\n",
       "      <td>4-Apr</td>\n",
       "      <td>Monday</td>\n",
       "      <td>44.1</td>\n",
       "      <td>33.1</td>\n",
       "      <td>0.47 (S)</td>\n",
       "      <td>521</td>\n",
       "      <td>1067</td>\n",
       "      <td>1440</td>\n",
       "      <td>1307</td>\n",
       "      <td>4335</td>\n",
       "    </tr>\n",
       "    <tr>\n",
       "      <th>4</th>\n",
       "      <td>5-Apr</td>\n",
       "      <td>Tuesday</td>\n",
       "      <td>42.1</td>\n",
       "      <td>26.1</td>\n",
       "      <td>0</td>\n",
       "      <td>1416</td>\n",
       "      <td>2617</td>\n",
       "      <td>3081</td>\n",
       "      <td>2357</td>\n",
       "      <td>9471</td>\n",
       "    </tr>\n",
       "  </tbody>\n",
       "</table>\n",
       "</div>"
      ],
      "text/plain": [
       "    Date       Day  High Temp (°F)  Low Temp (°F) Precipitation  \\\n",
       "0  1-Apr    Friday            78.1           66.0          0.01   \n",
       "1  2-Apr  Saturday            55.0           48.9          0.15   \n",
       "2  3-Apr    Sunday            39.9           34.0          0.09   \n",
       "3  4-Apr    Monday            44.1           33.1      0.47 (S)   \n",
       "4  5-Apr   Tuesday            42.1           26.1             0   \n",
       "\n",
       "   Brooklyn Bridge  Manhattan Bridge  Williamsburg Bridge  Queensboro Bridge  \\\n",
       "0             1704              3126                 4115               2552   \n",
       "1              827              1646                 2565               1884   \n",
       "2              526              1232                 1695               1306   \n",
       "3              521              1067                 1440               1307   \n",
       "4             1416              2617                 3081               2357   \n",
       "\n",
       "   Total  \n",
       "0  11497  \n",
       "1   6922  \n",
       "2   4759  \n",
       "3   4335  \n",
       "4   9471  "
      ]
     },
     "execution_count": 2,
     "metadata": {},
     "output_type": "execute_result"
    }
   ],
   "source": [
    "df = pd.read_csv(\"NYC_Bicycle_Counts_2016_Corrected_2.csv\", thousands=',')\n",
    "df.head()"
   ]
  },
  {
   "cell_type": "markdown",
   "metadata": {},
   "source": [
    "# Clean the Data"
   ]
  },
  {
   "cell_type": "code",
   "execution_count": 3,
   "metadata": {},
   "outputs": [],
   "source": [
    "#Fix Precipitation Values\n",
    "remove_parenthesis = lambda item: re.sub(r'([A-Za-z0-9.]*)( \\([\\w\\d]*\\))', r'\\1', str(item))\n",
    "df['Precipitation'] = df['Precipitation'].apply(remove_parenthesis)\n",
    "\n",
    "remove_T = lambda item: re.sub(r'T', '0', str(item))\n",
    "df['Precipitation'] = df['Precipitation'].apply(remove_T)\n",
    "\n",
    "# Convert data to floats\n",
    "df[\"High Temp (°F)\"] = df[\"High Temp (°F)\"].astype(float)\n",
    "df[\"Low Temp (°F)\"] = df[\"Low Temp (°F)\"].astype(float)\n",
    "df[\"Precipitation\"] = df[\"Precipitation\"].astype(float)\n",
    "df[\"Brooklyn Bridge\"] = df[\"Brooklyn Bridge\"].astype(float)\n",
    "df[\"Manhattan Bridge\"] = df[\"Manhattan Bridge\"].astype(float)\n",
    "df[\"Williamsburg Bridge\"] = df[\"Williamsburg Bridge\"].astype(float)\n",
    "df[\"Queensboro Bridge\"] = df[\"Queensboro Bridge\"].astype(float)\n",
    "df[\"Total\"] = df[\"Total\"].astype(float)\n",
    "\n",
    "#Remove time from Date and Day columns\n",
    "remove_time = lambda item: re.sub(r'([0-9-]+)([ 0-9:]*)', r'\\1', str(item))\n",
    "df['Date'] = df['Date'].apply(remove_time)\n",
    "df['Day'] = df['Day'].apply(remove_time)"
   ]
  },
  {
   "cell_type": "markdown",
   "metadata": {},
   "source": [
    "# Functions"
   ]
  },
  {
   "cell_type": "code",
   "execution_count": 4,
   "metadata": {},
   "outputs": [],
   "source": [
    "def normalize_data(split_type, x, mean, std):\n",
    "    if(split_type == 'train'):\n",
    "        mean = []\n",
    "        std = []\n",
    "        \n",
    "        for col in range(len(x[0])):\n",
    "            mean.append(np.mean(x[:, col]))\n",
    "            std.append(np.std(x[:, col]))\n",
    "            \n",
    "        vals = []\n",
    "        for row in range(len(x)):\n",
    "            norm_score = []\n",
    "            \n",
    "            for col in range(len(x[0])):\n",
    "                norm_score.append((x[row, col] - mean[col]) / std[col])\n",
    "            vals.append(norm_score)\n",
    "            \n",
    "        vals = np.array(vals)\n",
    "        \n",
    "        return vals, mean, std\n",
    "    \n",
    "    elif(split_type == 'test'):\n",
    "        vals = []\n",
    "        for row in range(len(x)):\n",
    "            temp = []\n",
    "            \n",
    "            for col in range(len(x[0])):\n",
    "                temp.append((x[row, col] - mean[col]) / std[col])\n",
    "            \n",
    "            vals.append(temp)\n",
    "        \n",
    "        vals = np.array(vals)\n",
    "        \n",
    "        return vals\n",
    "  \n",
    "    else:\n",
    "        print(\"Wrong Split Type Entered\")\n"
   ]
  },
  {
   "cell_type": "code",
   "execution_count": 5,
   "metadata": {},
   "outputs": [],
   "source": [
    "def plot_graphs(df, columns, target):\n",
    "    colors = ['blue', 'green', 'red', 'black']\n",
    "    \n",
    "    for i in range(len(columns)):\n",
    "        df.plot(kind = 'scatter', x = columns[i], y = target, color = colors[i], label = columns[i])\n",
    "            \n",
    "    plt.show()"
   ]
  },
  {
   "cell_type": "code",
   "execution_count": 6,
   "metadata": {},
   "outputs": [],
   "source": [
    "def linear_model(x_train, x_test, y_train, y_test):\n",
    "    model = LinearRegression()\n",
    "    model.fit(x_train, y_train)\n",
    "    \n",
    "    coeff = model.coef_\n",
    "    intercept = model.intercept_\n",
    "    \n",
    "    yHat = model.predict(x_test)\n",
    "    mse = np.mean((yHat - y_test) ** 2)\n",
    "    r2 = r2_score(y_test, yHat)\n",
    "    \n",
    "    return yHat, coeff, intercept, mse, r2"
   ]
  },
  {
   "cell_type": "code",
   "execution_count": 7,
   "metadata": {},
   "outputs": [],
   "source": [
    "def polynomial_model(x_train, x_test, y_train, y_test, d):\n",
    "    poly = PolynomialFeatures(degree = d)\n",
    "    poly_x_train = poly.fit_transform(x_train)\n",
    "    \n",
    "    model = LinearRegression()\n",
    "    model.fit(poly_x_train, y_train)\n",
    "    \n",
    "    coeff = model.coef_\n",
    "    intercept = model.intercept_\n",
    "    \n",
    "    poly_x_test = poly.fit_transform(x_test)\n",
    "    yHat = model.predict(poly_x_test)\n",
    "    \n",
    "    mse = np.mean((yHat - y_test) ** 2)\n",
    "    r2 = r2_score(y_test, yHat)\n",
    "    \n",
    "    return yHat, coeff, intercept, mse, r2"
   ]
  },
  {
   "cell_type": "code",
   "execution_count": 8,
   "metadata": {},
   "outputs": [],
   "source": [
    "def ridge_model(x_train, x_test, y_train, y_test, d):\n",
    "    lambda_values = np.logspace(start=-1.00, stop=2.00, endpoint=True, base=10, num=100)\n",
    "    \n",
    "    if(d > 1):\n",
    "        poly = PolynomialFeatures(degree = d)\n",
    "        x_train = poly.fit_transform(x_train)\n",
    "        x_test = poly.fit_transform(x_test)\n",
    "    \n",
    "    model_list = []\n",
    "    r2_values = []\n",
    "    \n",
    "    for l in lambda_values:\n",
    "        model = Ridge(alpha = l, fit_intercept = True)\n",
    "        model.fit(x_train, y_train)\n",
    "        \n",
    "        coeff = model.coef_\n",
    "        intercept = model.intercept_\n",
    "                \n",
    "        yHat = model.predict(x_test)\n",
    "        r2 = r2_score(y_test, yHat)\n",
    "        \n",
    "        model_list.append(model)\n",
    "        r2_values.append(r2)\n",
    "        \n",
    "    max_ind = r2_values.index(max(r2_values))\n",
    "    best_lambda = lambda_values[max_ind]\n",
    "    best_r2 = r2_values[max_ind]\n",
    "    best_model = model_list[max_ind]\n",
    "    \n",
    "    yHat = best_model.predict(x_test)\n",
    "    mse = np.mean((yHat - y_test) ** 2)\n",
    "\n",
    "    \n",
    "    plt.plot(lambda_values, r2_values, 'r-')\n",
    "    plt.xlabel(\"Lambda Values\")\n",
    "    plt.ylabel(\"R2 Value\")\n",
    "    plt.title(\"Plot of R2 score against lambda values\")\n",
    "    plt.show()\n",
    "    \n",
    "    return r2, mse, best_lambda"
   ]
  },
  {
   "cell_type": "code",
   "execution_count": 9,
   "metadata": {},
   "outputs": [],
   "source": [
    "def graph_logistic_regr(x_test, clf):\n",
    "    y_preds = clf.predict_proba(X_test)\n",
    "\n",
    "    # take the second column because the classifier outputs scores for\n",
    "    # the 0 class as well\n",
    "    preds = y_preds[:,1]\n",
    "\n",
    "    # fpr means false-positive-rate\n",
    "    # tpr means true-positive-rate\n",
    "    fpr, tpr, _ = metrics.roc_curve(y_test, preds)\n",
    "\n",
    "    auc_score = metrics.auc(fpr, tpr)\n",
    "\n",
    "    # clear current figure\n",
    "    plt.clf()\n",
    "\n",
    "    plt.title('ROC Curve')\n",
    "    plt.plot(fpr, tpr, label='AUC = {:.2f}'.format(auc_score))\n",
    "\n",
    "    # it's helpful to add a diagonal to indicate where chance \n",
    "    # scores lie (i.e. just flipping a coin)\n",
    "    plt.plot([0,1],[0,1],'r--')\n",
    "\n",
    "    plt.xlim([-0.1,1.1])\n",
    "    plt.ylim([-0.1,1.1])\n",
    "    plt.ylabel('True Positive Rate')\n",
    "    plt.xlabel('False Positive Rate')\n",
    "\n",
    "    plt.legend(loc='lower right')\n",
    "    plt.show()"
   ]
  },
  {
   "cell_type": "code",
   "execution_count": 10,
   "metadata": {},
   "outputs": [],
   "source": [
    "def logistic_regression(x_train, x_test, y_train, y_test):\n",
    "    model = LogisticRegression()\n",
    "    model.fit(x_train, y_train)\n",
    "    \n",
    "    yHat = model.predict(x_test)\n",
    "    print(model.coef_)\n",
    "    \n",
    "    accuracy = metrics.accuracy_score(y_test, yHat)\n",
    "            \n",
    "    return accuracy, mse, r2"
   ]
  },
  {
   "cell_type": "code",
   "execution_count": 11,
   "metadata": {},
   "outputs": [],
   "source": [
    "def support_vector_machine(x_train, x_test, y_train, y_test):\n",
    "    types = ['linear', 'rbf','sigmoid']\n",
    "    f1_acc = np.zeros((len(types)))\n",
    "    \n",
    "    for i in range(len(types)):\n",
    "        model = svm.SVC(kernel = types[i])\n",
    "        model.fit(x_train, y_train)\n",
    "        yHat = model.predict(x_test)\n",
    "        f1_acc[i] = metrics.f1_score(y_test, yHat, average = 'weighted')\n",
    "\n",
    "    print('The accuracy for the svm model is :', str(f1_acc.max()), 'with kernel type being', types[f1_acc.argmax()])"
   ]
  },
  {
   "cell_type": "code",
   "execution_count": 12,
   "metadata": {},
   "outputs": [],
   "source": [
    "def bernoulli_model(x_train, x_test, y_train, y_test):\n",
    "    model = BernoulliNB()\n",
    "    model.fit(x_train, y_train)\n",
    "    yHat = model.predict(x_test)\n",
    "    \n",
    "    accuracy = metrics.accuracy_score(y_test, yHat)\n",
    "    \n",
    "    return accuracy"
   ]
  },
  {
   "cell_type": "markdown",
   "metadata": {},
   "source": [
    "# Question 1"
   ]
  },
  {
   "cell_type": "code",
   "execution_count": 13,
   "metadata": {},
   "outputs": [
    {
     "name": "stdout",
     "output_type": "stream",
     "text": [
      "\n",
      "Brooklyn Bridge Average Traffic: 3031 Bikes\n",
      "Manhattan Bridge Average Traffic: 5052 Bikes\n",
      "Williamsburg Bridge Average Traffic: 6161 Bikes\n",
      "Queensboro Bridge Average Traffic: 4301 Bikes\n",
      "\n"
     ]
    }
   ],
   "source": [
    "# Getting Average Traffic of Each Bridge\n",
    "avgTraffic_Brooklyn = sum(df[\"Brooklyn Bridge\"])/len(df[\"Brooklyn Bridge\"])\n",
    "avgTraffic_Manhattan = sum(df[\"Manhattan Bridge\"])/len(df[\"Manhattan Bridge\"])\n",
    "avgTraffic_William = sum(df[\"Williamsburg Bridge\"])/len(df[\"Williamsburg Bridge\"])\n",
    "avgTraffic_Queen = sum(df[\"Queensboro Bridge\"])/len(df[\"Queensboro Bridge\"])\n",
    "\n",
    "rndTraffic_Brooklyn = int(round(avgTraffic_Brooklyn))\n",
    "rndTraffic_Manhattan = int(round(avgTraffic_Manhattan))\n",
    "rndTraffic_William = int(round(avgTraffic_William))\n",
    "rndTraffic_Queen = int(round(avgTraffic_Queen)) \n",
    "\n",
    "# Print Average Traffic of Each Bridge\n",
    "print('')\n",
    "print('Brooklyn Bridge Average Traffic: ' + str(rndTraffic_Brooklyn) + ' Bikes')\n",
    "print('Manhattan Bridge Average Traffic: ' + str(rndTraffic_Manhattan) + ' Bikes')\n",
    "print('Williamsburg Bridge Average Traffic: ' + str(rndTraffic_William) + ' Bikes')\n",
    "print('Queensboro Bridge Average Traffic: ' + str(rndTraffic_Queen) + ' Bikes')\n",
    "print('')"
   ]
  },
  {
   "cell_type": "code",
   "execution_count": 14,
   "metadata": {},
   "outputs": [
    {
     "data": {
      "image/png": "[encoded data removed]",
      "text/plain": [
       "<Figure size 432x288 with 1 Axes>"
      ]
     },
     "metadata": {
      "needs_background": "light"
     },
     "output_type": "display_data"
    }
   ],
   "source": [
    "bridge = ('Brooklyn Bridge', 'Manhattan Bridge', 'Williamsburg Bridge', 'Queensboro Bridge')\n",
    "x_pos = np.arange(len(bridge))\n",
    "traffic = [avgTraffic_Brooklyn, avgTraffic_Manhattan, avgTraffic_William, avgTraffic_Queen]\n",
    "\n",
    "plt.bar(x_pos, traffic, align='center', alpha = 0.7, color = 'red')\n",
    "plt.xticks(x_pos, bridge)\n",
    "plt.ylabel('Average Traffic')\n",
    "plt.title('Average Traffic at Each Bridge')\n",
    "plt.xticks(rotation = 90)\n",
    "\n",
    "plt.show()"
   ]
  },
  {
   "cell_type": "code",
   "execution_count": 15,
   "metadata": {},
   "outputs": [
    {
     "name": "stdout",
     "output_type": "stream",
     "text": [
      "Weekend Mean: 14359\n",
      "Weekday Mean: 20252\n"
     ]
    }
   ],
   "source": [
    "weekend = pd.concat([df[df[\"Day\"] == 'Saturday'], df[df[\"Day\"] == 'Sunday']])\n",
    "weekday = pd.concat([df[df[\"Day\"] == 'Monday'], df[df[\"Day\"] == 'Tuesday'], df[df[\"Day\"] == 'Wednesday'], df[df[\"Day\"] == 'Thursday'], df[df[\"Day\"] == 'Friday']])\n",
    "\n",
    "weekend_mean = np.mean(weekend['Total'].values)\n",
    "weekday_mean = np.mean(weekday['Total'].values)\n",
    "\n",
    "print(\"Weekend Mean: %d\" % int(round(weekend_mean)))\n",
    "print(\"Weekday Mean: %d\" % int(round(weekday_mean)))\n"
   ]
  },
  {
   "cell_type": "code",
   "execution_count": 16,
   "metadata": {},
   "outputs": [
    {
     "name": "stdout",
     "output_type": "stream",
     "text": [
      "\n",
      "Brooklyn Bridge Average Traffic: 3031 Bikes\n",
      "Manhattan Bridge Average Traffic: 5052 Bikes\n",
      "Williamsburg Bridge Average Traffic: 6161 Bikes\n",
      "Queensboro Bridge Average Traffic: 4301 Bikes\n",
      "\n"
     ]
    }
   ],
   "source": [
    "# Weekday > Weekend\n",
    "\n",
    "brooklyn = sum(weekday[\"Brooklyn Bridge\"])/len(weekday[\"Brooklyn Bridge\"])\n",
    "manhattan = sum(weekday[\"Manhattan Bridge\"])/len(weekday[\"Manhattan Bridge\"])\n",
    "william = sum(weekday[\"Williamsburg Bridge\"])/len(weekday[\"Williamsburg Bridge\"])\n",
    "queen = sum(weekday[\"Queensboro Bridge\"])/len(weekday[\"Queensboro Bridge\"])\n",
    "\n",
    "rnd_brook = int(round(avgTraffic_Brooklyn))\n",
    "rnd_manhattan = int(round(avgTraffic_Manhattan))\n",
    "rnd_william = int(round(avgTraffic_William))\n",
    "rnd_queen = int(round(avgTraffic_Queen)) \n",
    "\n",
    "# Print Average Traffic of Each Bridge\n",
    "print('')\n",
    "print('Brooklyn Bridge Average Traffic: ' + str(rnd_brook) + ' Bikes')\n",
    "print('Manhattan Bridge Average Traffic: ' + str(rnd_manhattan) + ' Bikes')\n",
    "print('Williamsburg Bridge Average Traffic: ' + str(rnd_william) + ' Bikes')\n",
    "print('Queensboro Bridge Average Traffic: ' + str(rnd_queen) + ' Bikes')\n",
    "print('')"
   ]
  },
  {
   "cell_type": "code",
   "execution_count": 17,
   "metadata": {},
   "outputs": [
    {
     "data": {
      "image/png": "[encoded data removed]",
      "text/plain": [
       "<Figure size 432x288 with 1 Axes>"
      ]
     },
     "metadata": {
      "needs_background": "light"
     },
     "output_type": "display_data"
    }
   ],
   "source": [
    "bridge = ('Brooklyn Bridge', 'Manhattan Bridge', 'Williamsburg Bridge', 'Queensboro Bridge')\n",
    "x_pos = np.arange(len(bridge))\n",
    "traffic = [rnd_brook, rnd_manhattan, rnd_william, rnd_queen]\n",
    "\n",
    "plt.bar(x_pos, traffic, align='center', alpha = 0.7, color = 'red')\n",
    "plt.xticks(x_pos, bridge)\n",
    "plt.ylabel('Average Traffic')\n",
    "plt.title('Average Traffic at Each Bridge')\n",
    "plt.xticks(rotation = 90)\n",
    "\n",
    "plt.show()"
   ]
  },
  {
   "cell_type": "markdown",
   "metadata": {},
   "source": [
    "# Question 2"
   ]
  },
  {
   "cell_type": "markdown",
   "metadata": {},
   "source": [
    "### Verify Independent Variables"
   ]
  },
  {
   "cell_type": "code",
   "execution_count": 18,
   "metadata": {},
   "outputs": [
    {
     "data": {
      "image/png": "[encoded data removed]",
      "text/plain": [
       "<Figure size 432x288 with 1 Axes>"
      ]
     },
     "metadata": {
      "needs_background": "light"
     },
     "output_type": "display_data"
    },
    {
     "data": {
      "image/png": "[encoded data removed]",
      "text/plain": [
       "<Figure size 432x288 with 1 Axes>"
      ]
     },
     "metadata": {
      "needs_background": "light"
     },
     "output_type": "display_data"
    },
    {
     "data": {
      "image/png": "[encoded data removed]",
      "text/plain": [
       "<Figure size 432x288 with 1 Axes>"
      ]
     },
     "metadata": {
      "needs_background": "light"
     },
     "output_type": "display_data"
    }
   ],
   "source": [
    "plot_graphs(df, ['High Temp (°F)', 'Low Temp (°F)', 'Precipitation'], 'Total')"
   ]
  },
  {
   "cell_type": "markdown",
   "metadata": {},
   "source": [
    "### Get Necessary Independent and Target Values"
   ]
  },
  {
   "cell_type": "code",
   "execution_count": 19,
   "metadata": {},
   "outputs": [],
   "source": [
    "x_values = df[['High Temp (°F)', 'Low Temp (°F)', 'Precipitation']].values\n",
    "y_values = df[['Total']].values"
   ]
  },
  {
   "cell_type": "markdown",
   "metadata": {},
   "source": [
    "### Split the Data into Training and Testing"
   ]
  },
  {
   "cell_type": "code",
   "execution_count": 20,
   "metadata": {},
   "outputs": [],
   "source": [
    "x_train, x_test, y_train, y_test = train_test_split(x_values, y_values, test_size = 0.2, random_state = 42)"
   ]
  },
  {
   "cell_type": "markdown",
   "metadata": {},
   "source": [
    "### Normalize the DataFrame"
   ]
  },
  {
   "cell_type": "code",
   "execution_count": 21,
   "metadata": {},
   "outputs": [],
   "source": [
    "(norm_train_x, mean_x, std_x) = normalize_data('train', x_train, 0, 0)\n",
    "norm_test_x = normalize_data('test', x_test, mean_x, std_x)"
   ]
  },
  {
   "cell_type": "markdown",
   "metadata": {},
   "source": [
    "### Linear Model"
   ]
  },
  {
   "cell_type": "code",
   "execution_count": 22,
   "metadata": {},
   "outputs": [
    {
     "name": "stdout",
     "output_type": "stream",
     "text": [
      "Mean Squared Error is 17498379.32\n",
      "R2 score is 0.58\n"
     ]
    }
   ],
   "source": [
    "(yHat, coeff, intercept, mse, r2) = linear_model(norm_train_x, norm_test_x, y_train, y_test)\n",
    "\n",
    "print(\"Mean Squared Error is %.2f\" % mse)\n",
    "print(\"R2 score is %.2f\" % r2)"
   ]
  },
  {
   "cell_type": "markdown",
   "metadata": {},
   "source": [
    "### Quadratic Model"
   ]
  },
  {
   "cell_type": "code",
   "execution_count": 23,
   "metadata": {},
   "outputs": [
    {
     "name": "stdout",
     "output_type": "stream",
     "text": [
      "Mean Squared Error is 17049458.16\n",
      "R2 score is 0.59\n"
     ]
    }
   ],
   "source": [
    "yHat, coeff, intercept, mse, r2 = polynomial_model(norm_train_x, norm_test_x, y_train, y_test, 2)\n",
    "\n",
    "print(\"Mean Squared Error is %.2f\" % mse)\n",
    "print(\"R2 score is %.2f\" % r2)"
   ]
  },
  {
   "cell_type": "markdown",
   "metadata": {},
   "source": [
    "### Cubic Model"
   ]
  },
  {
   "cell_type": "code",
   "execution_count": 24,
   "metadata": {},
   "outputs": [
    {
     "name": "stdout",
     "output_type": "stream",
     "text": [
      "Mean Squared Error is 103610650.74\n",
      "R2 score is -1.52\n"
     ]
    }
   ],
   "source": [
    "yHat, coeff, intercept, mse, r2 = polynomial_model(norm_train_x, norm_test_x, y_train, y_test, 3)\n",
    "\n",
    "print(\"Mean Squared Error is %.2f\" % mse)\n",
    "print(\"R2 score is %.2f\" % r2)"
   ]
  },
  {
   "cell_type": "markdown",
   "metadata": {},
   "source": [
    "### Linear Ridge Regression"
   ]
  },
  {
   "cell_type": "code",
   "execution_count": 25,
   "metadata": {},
   "outputs": [
    {
     "name": "stdout",
     "output_type": "stream",
     "text": [
      "Linear Regression\n"
     ]
    },
    {
     "data": {
      "image/png": "[encoded data removed]",
      "text/plain": [
       "<Figure size 432x288 with 1 Axes>"
      ]
     },
     "metadata": {
      "needs_background": "light"
     },
     "output_type": "display_data"
    },
    {
     "name": "stdout",
     "output_type": "stream",
     "text": [
      "Mean Squared Error is 17476450.30\n",
      "R2 score is 0.49\n",
      "Best Lambda is 1.23\n"
     ]
    }
   ],
   "source": [
    "print(\"Linear Regression\")\n",
    "(r2, mse, best_lambda) = ridge_model(norm_train_x, norm_test_x, y_train, y_test, 1)\n",
    "print(\"Mean Squared Error is %.2f\" % mse)\n",
    "print(\"R2 score is %.2f\" % r2)\n",
    "print(\"Best Lambda is %.2f\" % best_lambda)"
   ]
  },
  {
   "cell_type": "markdown",
   "metadata": {},
   "source": [
    "### Quadratic Ridge Regression"
   ]
  },
  {
   "cell_type": "code",
   "execution_count": 26,
   "metadata": {},
   "outputs": [
    {
     "name": "stdout",
     "output_type": "stream",
     "text": [
      "Quadratic Regression\n"
     ]
    },
    {
     "data": {
      "image/png": "[encoded data removed]",
      "text/plain": [
       "<Figure size 432x288 with 1 Axes>"
      ]
     },
     "metadata": {
      "needs_background": "light"
     },
     "output_type": "display_data"
    },
    {
     "name": "stdout",
     "output_type": "stream",
     "text": [
      "Mean Squared Error is 17056507.13\n",
      "R2 score is 0.49\n",
      "Best Lambda is 0.10\n"
     ]
    }
   ],
   "source": [
    "print(\"Quadratic Regression\")\n",
    "(r2, mse, best_lambda) = ridge_model(norm_train_x, norm_test_x, y_train, y_test, 2)\n",
    "print(\"Mean Squared Error is %.2f\" % mse)\n",
    "print(\"R2 score is %.2f\" % r2)\n",
    "print(\"Best Lambda is %.2f\" % best_lambda)"
   ]
  },
  {
   "cell_type": "markdown",
   "metadata": {},
   "source": [
    "### Cubic Ridge Regression"
   ]
  },
  {
   "cell_type": "code",
   "execution_count": 27,
   "metadata": {},
   "outputs": [
    {
     "name": "stdout",
     "output_type": "stream",
     "text": [
      "Cubic Regression\n"
     ]
    },
    {
     "data": {
      "image/png": "[encoded data removed]",
      "text/plain": [
       "<Figure size 432x288 with 1 Axes>"
      ]
     },
     "metadata": {
      "needs_background": "light"
     },
     "output_type": "display_data"
    },
    {
     "name": "stdout",
     "output_type": "stream",
     "text": [
      "Mean Squared Error is 15758031.68\n",
      "R2 score is 0.32\n",
      "Best Lambda is 14.17\n"
     ]
    }
   ],
   "source": [
    "print(\"Cubic Regression\")\n",
    "(r2, mse, best_lambda) = ridge_model(norm_train_x, norm_test_x, y_train, y_test, 3)\n",
    "print(\"Mean Squared Error is %.2f\" % mse)\n",
    "print(\"R2 score is %.2f\" % r2)\n",
    "print(\"Best Lambda is %.2f\" % best_lambda)"
   ]
  },
  {
   "cell_type": "markdown",
   "metadata": {},
   "source": [
    "# Question 3"
   ]
  },
  {
   "cell_type": "markdown",
   "metadata": {},
   "source": [
    "### Get Necessary Independent and Target Values"
   ]
  },
  {
   "cell_type": "code",
   "execution_count": 28,
   "metadata": {},
   "outputs": [],
   "source": [
    "X_values = df[['Brooklyn Bridge', 'Manhattan Bridge', 'Williamsburg Bridge', 'Queensboro Bridge']].to_numpy()\n",
    "Y_values = df[['Precipitation']].to_numpy()\n",
    "\n",
    "x_total = df[['Total']].to_numpy()"
   ]
  },
  {
   "cell_type": "markdown",
   "metadata": {},
   "source": [
    "### Verify the Independent Variables"
   ]
  },
  {
   "cell_type": "code",
   "execution_count": 29,
   "metadata": {},
   "outputs": [
    {
     "data": {
      "image/png": "[encoded data removed]",
      "text/plain": [
       "<Figure size 432x288 with 1 Axes>"
      ]
     },
     "metadata": {
      "needs_background": "light"
     },
     "output_type": "display_data"
    },
    {
     "data": {
      "image/png": "[encoded data removed]",
      "text/plain": [
       "<Figure size 432x288 with 1 Axes>"
      ]
     },
     "metadata": {
      "needs_background": "light"
     },
     "output_type": "display_data"
    },
    {
     "data": {
      "image/png": "[encoded data removed]",
      "text/plain": [
       "<Figure size 432x288 with 1 Axes>"
      ]
     },
     "metadata": {
      "needs_background": "light"
     },
     "output_type": "display_data"
    },
    {
     "data": {
      "image/png": "[encoded data removed]",
      "text/plain": [
       "<Figure size 432x288 with 1 Axes>"
      ]
     },
     "metadata": {
      "needs_background": "light"
     },
     "output_type": "display_data"
    }
   ],
   "source": [
    "plot_graphs(df, ['Brooklyn Bridge', 'Manhattan Bridge', 'Williamsburg Bridge', 'Queensboro Bridge'], 'Precipitation')"
   ]
  },
  {
   "cell_type": "markdown",
   "metadata": {},
   "source": [
    "### Boolean Values for When it Rains or not"
   ]
  },
  {
   "cell_type": "code",
   "execution_count": 30,
   "metadata": {},
   "outputs": [],
   "source": [
    "for i in range(len(Y_values)):\n",
    "    if(Y_values[i][0] > 0.2):\n",
    "        Y_values[i][0] = 1\n",
    "    else:\n",
    "        Y_values[i][0] = 0"
   ]
  },
  {
   "cell_type": "markdown",
   "metadata": {},
   "source": [
    "### Plot of Total Cyclists vs Boolean Values of Rain"
   ]
  },
  {
   "cell_type": "code",
   "execution_count": 31,
   "metadata": {},
   "outputs": [
    {
     "data": {
      "image/png": "[encoded data removed]",
      "text/plain": [
       "<Figure size 432x288 with 1 Axes>"
      ]
     },
     "metadata": {
      "needs_background": "light"
     },
     "output_type": "display_data"
    }
   ],
   "source": [
    "plt.plot(df['Total'], Y_values, 'go')\n",
    "plt.xlabel('Number of Bicyclists')\n",
    "plt.ylabel('Precipitation')\n",
    "plt.title('Total Bicyclists and Precipitation')\n",
    "plt.show()"
   ]
  },
  {
   "cell_type": "markdown",
   "metadata": {},
   "source": [
    "### Split the Data into Training and Test"
   ]
  },
  {
   "cell_type": "code",
   "execution_count": 32,
   "metadata": {},
   "outputs": [],
   "source": [
    "X_train, X_test, Y_train, Y_test = train_test_split(X_values, Y_values, test_size = 0.2, random_state = 42)"
   ]
  },
  {
   "cell_type": "markdown",
   "metadata": {},
   "source": [
    "### Normalize the DataFrame"
   ]
  },
  {
   "cell_type": "code",
   "execution_count": 33,
   "metadata": {},
   "outputs": [],
   "source": [
    "(norm_train_X, mean_X, std_X) = normalize_data('train', X_train, 0, 0)\n",
    "norm_test_X = normalize_data('test', X_test, mean_X, std_X)"
   ]
  },
  {
   "cell_type": "markdown",
   "metadata": {},
   "source": [
    "### Logistic Regression"
   ]
  },
  {
   "cell_type": "code",
   "execution_count": 34,
   "metadata": {},
   "outputs": [
    {
     "name": "stdout",
     "output_type": "stream",
     "text": [
      "[[-0.27412491 -0.40034161 -0.56050126  0.25666932]]\n",
      "The accuracy of the logistic regression is 0.86\n"
     ]
    }
   ],
   "source": [
    "accuracy, mse, r2 = logistic_regression(norm_train_X, norm_test_X, Y_train, Y_test)\n",
    "\n",
    "print(\"The accuracy of the logistic regression is %.2f\" % accuracy)"
   ]
  },
  {
   "cell_type": "code",
   "execution_count": 35,
   "metadata": {},
   "outputs": [
    {
     "data": {
      "image/png": "[encoded data removed]",
      "text/plain": [
       "<Figure size 432x288 with 1 Axes>"
      ]
     },
     "metadata": {
      "needs_background": "light"
     },
     "output_type": "display_data"
    }
   ],
   "source": [
    "Y = df[['Precipitation']].values\n",
    "X = df[['Total']].values\n",
    "\n",
    "index_0 = []\n",
    "index_1 = []\n",
    "\n",
    "for i in range(len(Y_values)):\n",
    "    if(Y_values[i] == 0):\n",
    "        index_0.append(i)\n",
    "    \n",
    "    elif(Y_values[i] == 1):\n",
    "        index_1.append(i)\n",
    "\n",
    "model = LogisticRegression()\n",
    "model.fit(X, Y_values)\n",
    "    \n",
    "yHat_prob = model.predict_proba(X)[:, 1]\n",
    "\n",
    "plt.plot(X[index_0], Y_values[index_0], 'ro', label = 'Not Raining')\n",
    "plt.plot(X[index_1], Y_values[index_1], 'bo', label = 'Raining')\n",
    "plt.plot(X, yHat_prob, 'ko', label = 'Logistic Regression')\n",
    "\n",
    "plt.legend()\n",
    "plt.show()"
   ]
  },
  {
   "cell_type": "markdown",
   "metadata": {},
   "source": [
    "### Naive Bayes"
   ]
  },
  {
   "cell_type": "code",
   "execution_count": 36,
   "metadata": {},
   "outputs": [
    {
     "name": "stdout",
     "output_type": "stream",
     "text": [
      "The accuracy of the Naive Bayes model is 0.74\n"
     ]
    }
   ],
   "source": [
    "accuracy = bernoulli_model(norm_train_X, norm_test_X, Y_train, Y_test)\n",
    "print(\"The accuracy of the Naive Bayes model is %.2f\" % accuracy)"
   ]
  },
  {
   "cell_type": "markdown",
   "metadata": {},
   "source": [
    "### Support Vector Machine"
   ]
  },
  {
   "cell_type": "code",
   "execution_count": 37,
   "metadata": {},
   "outputs": [
    {
     "name": "stdout",
     "output_type": "stream",
     "text": [
      "The accuracy for the svm model is : 0.6982784657203261 with kernel type being linear\n"
     ]
    }
   ],
   "source": [
    "support_vector_machine(norm_train_X, norm_test_X, Y_train, Y_test)"
   ]
  },
  {
   "cell_type": "code",
   "execution_count": null,
   "metadata": {},
   "outputs": [],
   "source": []
  }
 ],
 "metadata": {
  "hide_input": false,
  "kernelspec": {
   "display_name": "Python 3",
   "language": "python",
   "name": "python3"
  },
  "language_info": {
   "codemirror_mode": {
    "name": "ipython",
    "version": 3
   },
   "file_extension": ".py",
   "mimetype": "text/x-python",
   "name": "python",
   "nbconvert_exporter": "python",
   "pygments_lexer": "ipython3",
   "version": "3.8.5"
  }
 },
 "nbformat": 4,
 "nbformat_minor": 2
}

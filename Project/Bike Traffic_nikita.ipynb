{
 "cells": [
  {
   "cell_type": "code",
   "execution_count": 1,
   "metadata": {},
   "outputs": [],
   "source": [
    "#!pip install pandas # Using Jupyter Notebook in Vbox\n",
    "import pandas as pd\n",
    "import numpy as np\n",
    "import re\n",
    "from sklearn.model_selection import train_test_split\n",
    "import matplotlib.pyplot as plt\n",
    "from sklearn.linear_model import LinearRegression\n",
    "from sklearn.metrics import r2_score\n",
    "from sklearn.linear_model import Ridge\n",
    "from sklearn.preprocessing import PolynomialFeatures"
   ]
  },
  {
   "cell_type": "code",
   "execution_count": 2,
   "metadata": {},
   "outputs": [
    {
     "data": {
      "text/html": [
       "<div>\n",
       "<style scoped>\n",
       "    .dataframe tbody tr th:only-of-type {\n",
       "        vertical-align: middle;\n",
       "    }\n",
       "\n",
       "    .dataframe tbody tr th {\n",
       "        vertical-align: top;\n",
       "    }\n",
       "\n",
       "    .dataframe thead th {\n",
       "        text-align: right;\n",
       "    }\n",
       "</style>\n",
       "<table border=\"1\" class=\"dataframe\">\n",
       "  <thead>\n",
       "    <tr style=\"text-align: right;\">\n",
       "      <th></th>\n",
       "      <th>Unnamed: 0</th>\n",
       "      <th>Date</th>\n",
       "      <th>Day</th>\n",
       "      <th>High Temp (°F)</th>\n",
       "      <th>Low Temp (°F)</th>\n",
       "      <th>Precipitation</th>\n",
       "      <th>Brooklyn Bridge</th>\n",
       "      <th>Manhattan Bridge</th>\n",
       "      <th>Williamsburg Bridge</th>\n",
       "      <th>Queensboro Bridge</th>\n",
       "      <th>Total</th>\n",
       "    </tr>\n",
       "  </thead>\n",
       "  <tbody>\n",
       "    <tr>\n",
       "      <td>0</td>\n",
       "      <td>0</td>\n",
       "      <td>2016-04-01 00:00:00</td>\n",
       "      <td>2016-04-01 00:00:00</td>\n",
       "      <td>78.1</td>\n",
       "      <td>66.0</td>\n",
       "      <td>0.01</td>\n",
       "      <td>1704.0</td>\n",
       "      <td>3126</td>\n",
       "      <td>4115.0</td>\n",
       "      <td>2552.0</td>\n",
       "      <td>11497</td>\n",
       "    </tr>\n",
       "    <tr>\n",
       "      <td>1</td>\n",
       "      <td>1</td>\n",
       "      <td>2016-04-02 00:00:00</td>\n",
       "      <td>2016-04-02 00:00:00</td>\n",
       "      <td>55.0</td>\n",
       "      <td>48.9</td>\n",
       "      <td>0.15</td>\n",
       "      <td>827.0</td>\n",
       "      <td>1646</td>\n",
       "      <td>2565.0</td>\n",
       "      <td>1884.0</td>\n",
       "      <td>6922</td>\n",
       "    </tr>\n",
       "    <tr>\n",
       "      <td>2</td>\n",
       "      <td>2</td>\n",
       "      <td>2016-04-03 00:00:00</td>\n",
       "      <td>2016-04-03 00:00:00</td>\n",
       "      <td>39.9</td>\n",
       "      <td>34.0</td>\n",
       "      <td>0.09</td>\n",
       "      <td>526.0</td>\n",
       "      <td>1232</td>\n",
       "      <td>1695.0</td>\n",
       "      <td>1306.0</td>\n",
       "      <td>4759</td>\n",
       "    </tr>\n",
       "    <tr>\n",
       "      <td>3</td>\n",
       "      <td>3</td>\n",
       "      <td>2016-04-04 00:00:00</td>\n",
       "      <td>2016-04-04 00:00:00</td>\n",
       "      <td>44.1</td>\n",
       "      <td>33.1</td>\n",
       "      <td>0.47 (S)</td>\n",
       "      <td>521.0</td>\n",
       "      <td>1067</td>\n",
       "      <td>1440.0</td>\n",
       "      <td>1307.0</td>\n",
       "      <td>4335</td>\n",
       "    </tr>\n",
       "    <tr>\n",
       "      <td>4</td>\n",
       "      <td>4</td>\n",
       "      <td>2016-04-05 00:00:00</td>\n",
       "      <td>2016-04-05 00:00:00</td>\n",
       "      <td>42.1</td>\n",
       "      <td>26.1</td>\n",
       "      <td>0</td>\n",
       "      <td>1416.0</td>\n",
       "      <td>2617</td>\n",
       "      <td>3081.0</td>\n",
       "      <td>2357.0</td>\n",
       "      <td>9471</td>\n",
       "    </tr>\n",
       "  </tbody>\n",
       "</table>\n",
       "</div>"
      ],
      "text/plain": [
       "   Unnamed: 0                 Date                  Day  High Temp (°F)  \\\n",
       "0           0  2016-04-01 00:00:00  2016-04-01 00:00:00            78.1   \n",
       "1           1  2016-04-02 00:00:00  2016-04-02 00:00:00            55.0   \n",
       "2           2  2016-04-03 00:00:00  2016-04-03 00:00:00            39.9   \n",
       "3           3  2016-04-04 00:00:00  2016-04-04 00:00:00            44.1   \n",
       "4           4  2016-04-05 00:00:00  2016-04-05 00:00:00            42.1   \n",
       "\n",
       "   Low Temp (°F) Precipitation  Brooklyn Bridge  Manhattan Bridge  \\\n",
       "0           66.0          0.01           1704.0              3126   \n",
       "1           48.9          0.15            827.0              1646   \n",
       "2           34.0          0.09            526.0              1232   \n",
       "3           33.1      0.47 (S)            521.0              1067   \n",
       "4           26.1             0           1416.0              2617   \n",
       "\n",
       "   Williamsburg Bridge  Queensboro Bridge  Total  \n",
       "0               4115.0             2552.0  11497  \n",
       "1               2565.0             1884.0   6922  \n",
       "2               1695.0             1306.0   4759  \n",
       "3               1440.0             1307.0   4335  \n",
       "4               3081.0             2357.0   9471  "
      ]
     },
     "execution_count": 2,
     "metadata": {},
     "output_type": "execute_result"
    }
   ],
   "source": [
    "df = pd.read_csv(\"datasets_2358_3966_nyc-east-river-bicycle-counts.csv\", sep = ',')\n",
    "df.head()"
   ]
  },
  {
   "cell_type": "markdown",
   "metadata": {},
   "source": [
    "# Cleaning the Dataframe"
   ]
  },
  {
   "cell_type": "code",
   "execution_count": 3,
   "metadata": {},
   "outputs": [],
   "source": [
    "#Fix Precipitation Values\n",
    "remove_parenthesis = lambda item: re.sub(r'([A-Za-z0-9.]*)( \\([\\w\\d]*\\))', r'\\1', str(item))\n",
    "df['Precipitation'] = df['Precipitation'].apply(remove_parenthesis)\n",
    "\n",
    "remove_T = lambda item: re.sub(r'T', '0', str(item))\n",
    "df['Precipitation'] = df['Precipitation'].apply(remove_T)\n",
    "\n",
    "# Convert data to floats\n",
    "df[\"High Temp (°F)\"] = df[\"High Temp (°F)\"].astype(float)\n",
    "df[\"Low Temp (°F)\"] = df[\"Low Temp (°F)\"].astype(float)\n",
    "df[\"Precipitation\"] = df[\"Precipitation\"].astype(float)\n",
    "df[\"Brooklyn Bridge\"] = df[\"Brooklyn Bridge\"].astype(float)\n",
    "df[\"Manhattan Bridge\"] = df[\"Manhattan Bridge\"].astype(float)\n",
    "df[\"Williamsburg Bridge\"] = df[\"Williamsburg Bridge\"].astype(float)\n",
    "df[\"Queensboro Bridge\"] = df[\"Queensboro Bridge\"].astype(float)\n",
    "df[\"Total\"] = df[\"Total\"].astype(float)\n",
    "\n",
    "#Remove time from Date and Day columns\n",
    "remove_time = lambda item: re.sub(r'([0-9-]+)([ 0-9:]*)', r'\\1', str(item))\n",
    "df['Date'] = df['Date'].apply(remove_time)\n",
    "df['Day'] = df['Day'].apply(remove_time)\n",
    "\n",
    "#Drop Unnamed: 0 Column\n",
    "df.drop(columns = ['Unnamed: 0'], inplace = True)"
   ]
  },
  {
   "cell_type": "code",
   "execution_count": 4,
   "metadata": {},
   "outputs": [],
   "source": [
    "def normalize_data(values):\n",
    "    mean = []\n",
    "    std = []\n",
    "    \n",
    "    column = []\n",
    "    for col in df.columns:\n",
    "        if(col == 'Date' or col == 'Day'):\n",
    "            continue\n",
    "        else:\n",
    "            column.append(col)\n",
    "            \n",
    "    \n",
    "    for col in column:\n",
    "        values = df[col].tolist()\n",
    "        mean.append(np.mean(values))\n",
    "        std.append(np.std(values))\n",
    "        \n",
    "    norm_values = []\n",
    "    for row in df.index:\n",
    "        \n",
    "        for col in range(len(column)):\n",
    "            value = df.loc[row, column[col]]\n",
    "            norm = (value - mean[col]) / std[col]\n",
    "            df.loc[row, column[col]] = norm\n",
    "    \n",
    "    return mean, std, df"
   ]
  },
  {
   "cell_type": "markdown",
   "metadata": {},
   "source": [
    "# Question 1"
   ]
  },
  {
   "cell_type": "markdown",
   "metadata": {},
   "source": [
    "## Andrea Renee Levenson"
   ]
  },
  {
   "cell_type": "code",
   "execution_count": null,
   "metadata": {},
   "outputs": [],
   "source": []
  },
  {
   "cell_type": "code",
   "execution_count": null,
   "metadata": {},
   "outputs": [],
   "source": []
  },
  {
   "cell_type": "markdown",
   "metadata": {},
   "source": [
    "# Question 2"
   ]
  },
  {
   "cell_type": "markdown",
   "metadata": {},
   "source": [
    "## Nikita Ravi"
   ]
  },
  {
   "cell_type": "code",
   "execution_count": 5,
   "metadata": {},
   "outputs": [
    {
     "data": {
      "text/html": [
       "<div>\n",
       "<style scoped>\n",
       "    .dataframe tbody tr th:only-of-type {\n",
       "        vertical-align: middle;\n",
       "    }\n",
       "\n",
       "    .dataframe tbody tr th {\n",
       "        vertical-align: top;\n",
       "    }\n",
       "\n",
       "    .dataframe thead th {\n",
       "        text-align: right;\n",
       "    }\n",
       "</style>\n",
       "<table border=\"1\" class=\"dataframe\">\n",
       "  <thead>\n",
       "    <tr style=\"text-align: right;\">\n",
       "      <th></th>\n",
       "      <th>Date</th>\n",
       "      <th>Day</th>\n",
       "      <th>High Temp (°F)</th>\n",
       "      <th>Low Temp (°F)</th>\n",
       "      <th>Precipitation</th>\n",
       "      <th>Brooklyn Bridge</th>\n",
       "      <th>Manhattan Bridge</th>\n",
       "      <th>Williamsburg Bridge</th>\n",
       "      <th>Queensboro Bridge</th>\n",
       "      <th>Total</th>\n",
       "    </tr>\n",
       "  </thead>\n",
       "  <tbody>\n",
       "    <tr>\n",
       "      <td>0</td>\n",
       "      <td>2016-04-01</td>\n",
       "      <td>2016-04-01</td>\n",
       "      <td>1.570376</td>\n",
       "      <td>2.061734</td>\n",
       "      <td>-0.415421</td>\n",
       "      <td>-0.577826</td>\n",
       "      <td>-0.543042</td>\n",
       "      <td>-0.413030</td>\n",
       "      <td>-0.730295</td>\n",
       "      <td>-0.546716</td>\n",
       "    </tr>\n",
       "    <tr>\n",
       "      <td>1</td>\n",
       "      <td>2016-04-02</td>\n",
       "      <td>2016-04-02</td>\n",
       "      <td>-0.500154</td>\n",
       "      <td>0.261752</td>\n",
       "      <td>0.958412</td>\n",
       "      <td>-1.473731</td>\n",
       "      <td>-1.413288</td>\n",
       "      <td>-1.269518</td>\n",
       "      <td>-1.339432</td>\n",
       "      <td>-1.370166</td>\n",
       "    </tr>\n",
       "    <tr>\n",
       "      <td>2</td>\n",
       "      <td>2016-04-03</td>\n",
       "      <td>2016-04-03</td>\n",
       "      <td>-1.853617</td>\n",
       "      <td>-1.306653</td>\n",
       "      <td>0.369627</td>\n",
       "      <td>-1.781219</td>\n",
       "      <td>-1.656722</td>\n",
       "      <td>-1.750257</td>\n",
       "      <td>-1.866499</td>\n",
       "      <td>-1.759482</td>\n",
       "    </tr>\n",
       "    <tr>\n",
       "      <td>3</td>\n",
       "      <td>2016-04-04</td>\n",
       "      <td>2016-04-04</td>\n",
       "      <td>-1.477157</td>\n",
       "      <td>-1.401389</td>\n",
       "      <td>4.098603</td>\n",
       "      <td>-1.786327</td>\n",
       "      <td>-1.753743</td>\n",
       "      <td>-1.891163</td>\n",
       "      <td>-1.865587</td>\n",
       "      <td>-1.835797</td>\n",
       "    </tr>\n",
       "    <tr>\n",
       "      <td>4</td>\n",
       "      <td>2016-04-05</td>\n",
       "      <td>2016-04-05</td>\n",
       "      <td>-1.656424</td>\n",
       "      <td>-2.138224</td>\n",
       "      <td>-0.513552</td>\n",
       "      <td>-0.872034</td>\n",
       "      <td>-0.842336</td>\n",
       "      <td>-0.984391</td>\n",
       "      <td>-0.908112</td>\n",
       "      <td>-0.911374</td>\n",
       "    </tr>\n",
       "  </tbody>\n",
       "</table>\n",
       "</div>"
      ],
      "text/plain": [
       "         Date         Day  High Temp (°F)  Low Temp (°F)  Precipitation  \\\n",
       "0  2016-04-01  2016-04-01        1.570376       2.061734      -0.415421   \n",
       "1  2016-04-02  2016-04-02       -0.500154       0.261752       0.958412   \n",
       "2  2016-04-03  2016-04-03       -1.853617      -1.306653       0.369627   \n",
       "3  2016-04-04  2016-04-04       -1.477157      -1.401389       4.098603   \n",
       "4  2016-04-05  2016-04-05       -1.656424      -2.138224      -0.513552   \n",
       "\n",
       "   Brooklyn Bridge  Manhattan Bridge  Williamsburg Bridge  Queensboro Bridge  \\\n",
       "0        -0.577826         -0.543042            -0.413030          -0.730295   \n",
       "1        -1.473731         -1.413288            -1.269518          -1.339432   \n",
       "2        -1.781219         -1.656722            -1.750257          -1.866499   \n",
       "3        -1.786327         -1.753743            -1.891163          -1.865587   \n",
       "4        -0.872034         -0.842336            -0.984391          -0.908112   \n",
       "\n",
       "      Total  \n",
       "0 -0.546716  \n",
       "1 -1.370166  \n",
       "2 -1.759482  \n",
       "3 -1.835797  \n",
       "4 -0.911374  "
      ]
     },
     "execution_count": 5,
     "metadata": {},
     "output_type": "execute_result"
    }
   ],
   "source": [
    "# Normalize the data\n",
    "(mean, std, df_norm) = normalize_data(df)\n",
    "\n",
    "df_norm.head()"
   ]
  },
  {
   "cell_type": "code",
   "execution_count": 6,
   "metadata": {},
   "outputs": [],
   "source": [
    "#Data Analysis to verify Features\n",
    "def plot_graphs(df, columns):\n",
    "    colors = ['blue', 'green', 'red', 'black']\n",
    "    \n",
    "    for i in range(len(columns)):\n",
    "        df.plot(kind = 'scatter', x = columns[i], y = 'Total', color = colors[i], label = columns[i])\n",
    "            \n",
    "    plt.show()"
   ]
  },
  {
   "cell_type": "code",
   "execution_count": 7,
   "metadata": {},
   "outputs": [
    {
     "data": {
      "image/png": "[encoded data removed]",
      "text/plain": [
       "<Figure size 432x288 with 1 Axes>"
      ]
     },
     "metadata": {
      "needs_background": "light"
     },
     "output_type": "display_data"
    },
    {
     "data": {
      "image/png": "[encoded data removed]",
      "text/plain": [
       "<Figure size 432x288 with 1 Axes>"
      ]
     },
     "metadata": {
      "needs_background": "light"
     },
     "output_type": "display_data"
    },
    {
     "data": {
      "image/png": "[encoded data removed]",
      "text/plain": [
       "<Figure size 432x288 with 1 Axes>"
      ]
     },
     "metadata": {
      "needs_background": "light"
     },
     "output_type": "display_data"
    }
   ],
   "source": [
    "plot_graphs(df_norm, ['High Temp (°F)', 'Low Temp (°F)', 'Precipitation'])"
   ]
  },
  {
   "cell_type": "code",
   "execution_count": 8,
   "metadata": {},
   "outputs": [],
   "source": [
    "#Get necessary x_columns and y_columns\n",
    "x_values = df_norm[['High Temp (°F)', 'Low Temp (°F)', 'Precipitation']].values\n",
    "y_values = df_norm[['Total']].values"
   ]
  },
  {
   "cell_type": "code",
   "execution_count": 9,
   "metadata": {},
   "outputs": [],
   "source": [
    "# Split x_values and y_values into training and testing data\n",
    "x_train, x_test, y_train, y_test = train_test_split(x_values, y_values, test_size = 0.2, random_state = 42)"
   ]
  },
  {
   "cell_type": "markdown",
   "metadata": {},
   "source": [
    "### Linear Model"
   ]
  },
  {
   "cell_type": "code",
   "execution_count": 10,
   "metadata": {},
   "outputs": [],
   "source": [
    "#Linear Model\n",
    "def linear_model(x_train, x_test, y_train, y_test):\n",
    "    model = LinearRegression()\n",
    "    model.fit(x_train, y_train)\n",
    "    \n",
    "    coeff = model.coef_\n",
    "    intercept = model.intercept_\n",
    "    \n",
    "    yHat = model.predict(x_test)\n",
    "    mse = np.mean((yHat - y_test) ** 2)\n",
    "    r2 = r2_score(y_test, yHat)\n",
    "    \n",
    "    return yHat, coeff, intercept, mse, r2"
   ]
  },
  {
   "cell_type": "code",
   "execution_count": 11,
   "metadata": {},
   "outputs": [
    {
     "name": "stdout",
     "output_type": "stream",
     "text": [
      "Mean Squared Error is 0.43\n",
      "R2 score is 0.45\n"
     ]
    }
   ],
   "source": [
    "(yHat, coeff, intercept, mse, r2) = linear_model(x_train, x_test, y_train, y_test)\n",
    "\n",
    "print(\"Mean Squared Error is %.2f\" % mse)\n",
    "print(\"R2 score is %.2f\" % r2)"
   ]
  },
  {
   "cell_type": "markdown",
   "metadata": {},
   "source": [
    "### Polynomial Model"
   ]
  },
  {
   "cell_type": "code",
   "execution_count": 12,
   "metadata": {},
   "outputs": [],
   "source": [
    "def polynomial_model(x_train, x_test, y_train, y_test, d):\n",
    "    poly = PolynomialFeatures(degree = d)\n",
    "    poly_x_train = poly.fit_transform(x_train)\n",
    "    \n",
    "    model = LinearRegression()\n",
    "    model.fit(poly_x_train, y_train)\n",
    "    \n",
    "    coeff = model.coef_\n",
    "    intercept = model.intercept_\n",
    "    \n",
    "    poly_x_test = poly.fit_transform(x_test)\n",
    "    yHat = model.predict(poly_x_test)\n",
    "    \n",
    "    mse = np.mean((yHat - y_test) ** 2)\n",
    "    r2 = r2_score(y_test, yHat)\n",
    "    \n",
    "    return yHat, coeff, intercept, mse, r2"
   ]
  },
  {
   "cell_type": "code",
   "execution_count": 13,
   "metadata": {},
   "outputs": [],
   "source": [
    "# Quadratic Model\n",
    "yHat, coeff, intercept, mse, r2 = polynomial_model(x_train, x_test, y_train, y_test, 2)"
   ]
  },
  {
   "cell_type": "code",
   "execution_count": 14,
   "metadata": {},
   "outputs": [
    {
     "name": "stdout",
     "output_type": "stream",
     "text": [
      "Mean Squared Error is 0.26\n",
      "R2 score is 0.67\n"
     ]
    }
   ],
   "source": [
    "print(\"Mean Squared Error is %.2f\" % mse)\n",
    "print(\"R2 score is %.2f\" % r2)"
   ]
  },
  {
   "cell_type": "code",
   "execution_count": 15,
   "metadata": {},
   "outputs": [],
   "source": [
    "# Cubic Model\n",
    "yHat, coeff, intercept, mse, r2 = polynomial_model(x_train, x_test, y_train, y_test, 3)"
   ]
  },
  {
   "cell_type": "code",
   "execution_count": 16,
   "metadata": {},
   "outputs": [
    {
     "name": "stdout",
     "output_type": "stream",
     "text": [
      "Mean Squared Error is 0.06\n",
      "R2 score is 0.93\n"
     ]
    }
   ],
   "source": [
    "print(\"Mean Squared Error is %.2f\" % mse)\n",
    "print(\"R2 score is %.2f\" % r2)"
   ]
  },
  {
   "cell_type": "markdown",
   "metadata": {},
   "source": [
    "### Ridge Model"
   ]
  },
  {
   "cell_type": "code",
   "execution_count": 17,
   "metadata": {},
   "outputs": [],
   "source": [
    "def ridge_model(x_train, x_test, y_train, y_test, d):\n",
    "    lambda_values = np.logspace(start=-1.00, stop=2.00, endpoint=True, base=10, num=100)\n",
    "    \n",
    "    if(d > 1):\n",
    "        poly = PolynomialFeatures(degree = d)\n",
    "        x_train = poly.fit_transform(x_train)\n",
    "        x_test = poly.fit_transform(x_test)\n",
    "    \n",
    "    model_list = []\n",
    "    r2_values = []\n",
    "    \n",
    "    for l in lambda_values:\n",
    "        model = Ridge(alpha = l, fit_intercept = True)\n",
    "        model.fit(x_train, y_train)\n",
    "        \n",
    "        coeff = model.coef_\n",
    "        intercept = model.intercept_\n",
    "                \n",
    "        yHat = model.predict(x_test)\n",
    "        r2 = r2_score(y_test, yHat)\n",
    "        \n",
    "        model_list.append(model)\n",
    "        r2_values.append(r2)\n",
    "        \n",
    "    max_ind = r2_values.index(max(r2_values))\n",
    "    best_lambda = lambda_values[max_ind]\n",
    "    best_r2 = r2_values[max_ind]\n",
    "    best_model = model_list[max_ind]\n",
    "    \n",
    "    yHat = best_model.predict(x_test)\n",
    "    mse = np.mean((yHat - y_test) ** 2)\n",
    "\n",
    "    \n",
    "    plt.plot(lambda_values, r2_values, 'r-')\n",
    "    plt.xlabel(\"Lambda Values\")\n",
    "    plt.ylabel(\"R2 Value\")\n",
    "    plt.title(\"Plot of R2 score against lambda values\")\n",
    "    plt.show()\n",
    "    \n",
    "    return r2, mse, best_lambda"
   ]
  },
  {
   "cell_type": "code",
   "execution_count": 18,
   "metadata": {},
   "outputs": [
    {
     "data": {
      "image/png": "[encoded data removed]",
      "text/plain": [
       "<Figure size 432x288 with 1 Axes>"
      ]
     },
     "metadata": {
      "needs_background": "light"
     },
     "output_type": "display_data"
    },
    {
     "name": "stdout",
     "output_type": "stream",
     "text": [
      "Mean Squared Error is 0.39\n",
      "R2 score is 0.48\n",
      "Best Lambda is 32.75\n"
     ]
    }
   ],
   "source": [
    "# For Linear Ridge Regression\n",
    "(r2, mse, best_lambda) = ridge_model(x_train, x_test, y_train, y_test, 1)\n",
    "print(\"Mean Squared Error is %.2f\" % mse)\n",
    "print(\"R2 score is %.2f\" % r2)\n",
    "print(\"Best Lambda is %.2f\" % best_lambda)"
   ]
  },
  {
   "cell_type": "code",
   "execution_count": 19,
   "metadata": {},
   "outputs": [
    {
     "data": {
      "image/png": "[encoded data removed]",
      "text/plain": [
       "<Figure size 432x288 with 1 Axes>"
      ]
     },
     "metadata": {
      "needs_background": "light"
     },
     "output_type": "display_data"
    },
    {
     "name": "stdout",
     "output_type": "stream",
     "text": [
      "Mean Squared Error is 0.26\n",
      "R2 score is 0.59\n",
      "Best Lambda is 0.10\n"
     ]
    }
   ],
   "source": [
    "# For Quadratic Ridge Regression\n",
    "(r2, mse, best_lambda) = ridge_model(x_train, x_test, y_train, y_test, 2)\n",
    "print(\"Mean Squared Error is %.2f\" % mse)\n",
    "print(\"R2 score is %.2f\" % r2)\n",
    "print(\"Best Lambda is %.2f\" % best_lambda)"
   ]
  },
  {
   "cell_type": "code",
   "execution_count": 20,
   "metadata": {},
   "outputs": [
    {
     "data": {
      "image/png": "[encoded data removed]",
      "text/plain": [
       "<Figure size 432x288 with 1 Axes>"
      ]
     },
     "metadata": {
      "needs_background": "light"
     },
     "output_type": "display_data"
    },
    {
     "name": "stdout",
     "output_type": "stream",
     "text": [
      "Mean Squared Error is 0.08\n",
      "R2 score is 0.56\n",
      "Best Lambda is 0.10\n"
     ]
    }
   ],
   "source": [
    "# For Cubic Ridge Regression\n",
    "(r2, mse, best_lambda) = ridge_model(x_train, x_test, y_train, y_test, 3)\n",
    "print(\"Mean Squared Error is %.2f\" % mse)\n",
    "print(\"R2 score is %.2f\" % r2)\n",
    "print(\"Best Lambda is %.2f\" % best_lambda)"
   ]
  },
  {
   "cell_type": "markdown",
   "metadata": {},
   "source": [
    "# Question 3"
   ]
  },
  {
   "cell_type": "markdown",
   "metadata": {},
   "source": [
    "## Andrea Renee Levenson and Nikita Ravi"
   ]
  },
  {
   "cell_type": "code",
   "execution_count": null,
   "metadata": {},
   "outputs": [],
   "source": []
  }
 ],
 "metadata": {
  "hide_input": false,
  "kernelspec": {
   "display_name": "Python 3",
   "language": "python",
   "name": "python3"
  },
  "language_info": {
   "codemirror_mode": {
    "name": "ipython",
    "version": 3
   },
   "file_extension": ".py",
   "mimetype": "text/x-python",
   "name": "python",
   "nbconvert_exporter": "python",
   "pygments_lexer": "ipython3",
   "version": "3.7.4"
  }
 },
 "nbformat": 4,
 "nbformat_minor": 2
}
